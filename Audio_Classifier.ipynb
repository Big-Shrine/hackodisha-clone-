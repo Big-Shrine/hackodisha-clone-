{
  "nbformat": 4,
  "nbformat_minor": 0,
  "metadata": {
    "colab": {
      "provenance": [],
      "authorship_tag": "ABX9TyNwug3EFUXZcK+8W93cfHsU",
      "include_colab_link": true
    },
    "kernelspec": {
      "name": "python3",
      "display_name": "Python 3"
    },
    "language_info": {
      "name": "python"
    }
  },
  "cells": [
    {
      "cell_type": "markdown",
      "metadata": {
        "id": "view-in-github",
        "colab_type": "text"
      },
      "source": [
        "<a href=\"https://colab.research.google.com/github/Shoaib1M/hackodishav1/blob/main/Audio_Classifier.ipynb\" target=\"_parent\"><img src=\"https://colab.research.google.com/assets/colab-badge.svg\" alt=\"Open In Colab\"/></a>"
      ]
    },
    {
      "cell_type": "code",
      "source": [
        "from google.colab import drive\n",
        "drive.mount('/content/drive')"
      ],
      "metadata": {
        "id": "Aw3rSYXa-xwY"
      },
      "execution_count": null,
      "outputs": []
    },
    {
      "cell_type": "code",
      "execution_count": null,
      "metadata": {
        "id": "PMefduzTgWxK"
      },
      "outputs": [],
      "source": [
        "import tensorflow as tf\n",
        "import tensorflow_hub as hub\n",
        "import numpy as np\n",
        "import csv\n",
        "\n",
        "import matplotlib.pyplot as plt\n",
        "from IPython.display import Audio\n",
        "from scipy.io import wavfile\n",
        "\n",
        "model = hub.load('https://tfhub.dev/google/yamnet/1')"
      ]
    },
    {
      "cell_type": "code",
      "source": [
        "def class_name_csv(class_map_csv_text):\n",
        "  class_names=[]\n",
        "  with tf.io.gfile.GFile(class_map_csv_text) as csvfile:\n",
        "    reader=csv.DictReader(csvfile)\n",
        "    for row in reader:\n",
        "      class_names.append(row[\"display_name\"])\n",
        "  return class_names\n",
        "\n",
        "class_map_path=model.class_map_path().numpy()\n",
        "class_names=class_name_csv(class_map_path)"
      ],
      "metadata": {
        "id": "PhqojtVbmBCG"
      },
      "execution_count": null,
      "outputs": []
    },
    {
      "cell_type": "code",
      "source": [
        "import scipy.signal\n",
        "\n",
        "def ensure_sample(original_sample_rate,waveform,desired_rate=16000):\n",
        "  if original_sample_rate!=desired_rate:\n",
        "    desired_lenght=int(round((float(len(waveform))/original_sample_rate)*16000))\n",
        "    waveform= scipy.signal.resample(waveform,desired_lenght)\n",
        "  return desired_rate,waveform"
      ],
      "metadata": {
        "id": "SOOyJK7QqkeO"
      },
      "execution_count": null,
      "outputs": []
    },
    {
      "cell_type": "code",
      "source": [
        "!curl -O https://storage.googleapis.com/audioset/speech_whistling2.wav"
      ],
      "metadata": {
        "id": "nqkSrlpZtZIw"
      },
      "execution_count": null,
      "outputs": []
    },
    {
      "cell_type": "code",
      "source": [
        "!curl -O https://storage.googleapis.com/audioset/miaow_16k.wav"
      ],
      "metadata": {
        "id": "A7PcdIiR5wMZ"
      },
      "execution_count": null,
      "outputs": []
    },
    {
      "cell_type": "code",
      "source": [
        "# --- Step 1: Install the necessary library for audio conversion ---\n",
        "!pip install pydub\n",
        "\n",
        "from google.colab import files\n",
        "from google.colab import output\n",
        "from scipy.io import wavfile\n",
        "from IPython.display import Audio, display, HTML\n",
        "from base64 import b64decode\n",
        "from pydub import AudioSegment\n",
        "import ipywidgets as widgets\n",
        "import numpy as np\n",
        "import io\n",
        "\n",
        "# --- CORRECTED JavaScript for Audio Recording ---\n",
        "AUDIO_HTML = \"\"\"\n",
        "<script>\n",
        "var my_div = document.createElement(\"DIV\");\n",
        "var my_p = document.createElement(\"P\");\n",
        "var my_btn = document.createElement(\"BUTTON\");\n",
        "my_btn.textContent = \"Start Recording\";\n",
        "\n",
        "my_div.appendChild(my_p);\n",
        "my_div.appendChild(my_btn);\n",
        "document.body.appendChild(my_div);\n",
        "\n",
        "var base64data = 0;\n",
        "var recorder, gumStream;\n",
        "var recordButton = my_btn;\n",
        "\n",
        "var data = new Promise(resolve => {\n",
        "    recordButton.onclick = () => {\n",
        "        if (recorder && recorder.state == \"recording\") {\n",
        "            recorder.stop();\n",
        "            gumStream.getAudioTracks()[0].stop();\n",
        "            recordButton.innerText = \"Processing...\";\n",
        "        }\n",
        "    };\n",
        "\n",
        "    var handleSuccess = function(stream) {\n",
        "      gumStream = stream;\n",
        "      recorder = new MediaRecorder(stream);\n",
        "      let chunks = [];\n",
        "\n",
        "      recorder.ondataavailable = function(e) {\n",
        "          chunks.push(e.data);\n",
        "      };\n",
        "\n",
        "      recorder.onstop = function(e) {\n",
        "          var blob = new Blob(chunks, { 'type' : 'audio/webm; codecs=opus' });\n",
        "          var reader = new FileReader();\n",
        "          reader.readAsDataURL(blob);\n",
        "          reader.onloadend = function() {\n",
        "              base64data = reader.result;\n",
        "              resolve(base64data.toString());\n",
        "          }\n",
        "      };\n",
        "\n",
        "      recorder.start();\n",
        "      recordButton.innerText = \"Recording... press to stop\";\n",
        "    };\n",
        "\n",
        "    navigator.mediaDevices.getUserMedia({audio: true}).then(handleSuccess);\n",
        "});\n",
        "</script>\n",
        "\"\"\"\n",
        "\n",
        "def get_audio():\n",
        "  display(HTML(AUDIO_HTML))\n",
        "  data = output.eval_js('data')\n",
        "\n",
        "  if ',' not in data:\n",
        "      print(\"Audio data could not be retrieved. Please try recording again.\")\n",
        "      return None\n",
        "\n",
        "  binary = b64decode(data.split(',')[1])\n",
        "\n",
        "  # Use pydub to convert from webm to wav\n",
        "  try:\n",
        "    sound = AudioSegment.from_file(io.BytesIO(binary), format=\"webm\")\n",
        "    sound.export(\"recording.wav\", format=\"wav\")\n",
        "    return \"recording.wav\"\n",
        "  except Exception as e:\n",
        "    print(f\"Error during audio conversion: {e}\")\n",
        "    return None\n",
        "\n",
        "\n",
        "# --- Global variable to store the waveform ---\n",
        "waveform = None\n",
        "\n",
        "# Create a file upload widget\n",
        "uploader = widgets.FileUpload(\n",
        "    accept='.wav',\n",
        "    multiple=False,\n",
        "    description='Upload .wav file'\n",
        ")\n",
        "\n",
        "# Create a text input widget for the file path\n",
        "text_input = widgets.Text(\n",
        "    value='/content/drive/MyDrive/test/565103__hudehel__train-station-announcement.wav',\n",
        "    placeholder='Enter path to .wav file',\n",
        "    description='File Path:',\n",
        "    disabled=False\n",
        ")\n",
        "\n",
        "#Create a button to trigger audio recording\n",
        "record_button = widgets.Button(\n",
        "    description=\"Record Audio\",\n",
        "    button_style='info',\n",
        "    tooltip='Click to record audio from your microphone'\n",
        ")\n",
        "\n",
        "# Display the widgets\n",
        "display(uploader)\n",
        "display(text_input)\n",
        "display(record_button)\n",
        "\n",
        "\n",
        "def process_audio(wav_file_path=None, uploaded_file=None):\n",
        "    global waveform\n",
        "    if uploaded_file:\n",
        "        wav_file_name = next(iter(uploaded_file))\n",
        "        wav_data = uploaded_file[wav_file_name]['content']\n",
        "        with open(wav_file_name, 'wb') as f:\n",
        "            f.write(wav_data)\n",
        "        wav_file_path = wav_file_name\n",
        "\n",
        "    try:\n",
        "        sample_rate, new_waveform = wavfile.read(wav_file_path, mmap=False)\n",
        "        sample_rate, new_waveform = ensure_sample(sample_rate, new_waveform)\n",
        "        duration = len(new_waveform) / sample_rate\n",
        "        waveform = new_waveform # Update the global waveform variable\n",
        "\n",
        "        print(f'Sample Rate: {sample_rate} Hz')\n",
        "        print(f'Duration: {duration:.2f} s')\n",
        "        print(f'Size of input: {len(waveform)}')\n",
        "\n",
        "        print(\"\\nPlaying the audio that is about to be classified...\")\n",
        "        waveform_flat = waveform.ravel()\n",
        "        int16_info = np.iinfo(np.int16)\n",
        "        clipped_waveform = np.clip(waveform_flat, int16_info.min, int16_info.max)\n",
        "        waveform_int = clipped_waveform.astype(np.int16)\n",
        "        display(Audio(waveform_int, rate=int(sample_rate)))\n",
        "\n",
        "        print(\"\\n\\n✅ New audio loaded successfully!\")\n",
        "        print(\"You can now run the next cells to classify this audio.\")\n",
        "\n",
        "    except FileNotFoundError:\n",
        "        print(f\"File not found at the specified path: {wav_file_path}\")\n",
        "        waveform = None\n",
        "    except Exception as e:\n",
        "        print(f\"An error occurred: {e}\")\n",
        "        waveform = None\n",
        "\n",
        "def on_upload_change(change):\n",
        "    if uploader.value:\n",
        "        process_audio(uploaded_file=uploader.value)\n",
        "\n",
        "def on_record_button_clicked(b):\n",
        "    print(\"Starting recording...\")\n",
        "    audio_path = get_audio()\n",
        "    if audio_path:\n",
        "        print(f\"Recording saved to: {audio_path}\")\n",
        "        process_audio(wav_file_path=audio_path)\n",
        "\n",
        "uploader.observe(on_upload_change, names='value')\n",
        "record_button.on_click(on_record_button_clicked)"
      ],
      "metadata": {
        "id": "AzQW9NWS5239"
      },
      "execution_count": null,
      "outputs": []
    },
    {
      "cell_type": "code",
      "source": [
        "waveform_float = tf.cast(waveform, tf.float32)\n",
        "normal_waveform=waveform_float/tf.int16.max"
      ],
      "metadata": {
        "id": "ifoSb6xU8JpY"
      },
      "execution_count": null,
      "outputs": []
    },
    {
      "cell_type": "code",
      "source": [
        "import tensorflow as tf\n",
        "waveform = tf.convert_to_tensor(waveform, dtype=tf.float32)\n",
        "if len(normal_waveform.shape) > 1:\n",
        "    normal_waveform = tf.reduce_mean(normal_waveform, axis=1)\n",
        "\n",
        "score, embeddings, spectrogram=model(normal_waveform)\n",
        "scores_np=score.numpy()\n",
        "#int_scores=scores_np.astype(np.int32)\n",
        "infered_class=class_names[scores_np.mean(axis=0).argmax()]\n",
        "dic={}\n",
        "t_sum=0\n",
        "tt_sum=0\n",
        "x=0\n",
        "for i in range(len(scores_np.mean(axis=0))):\n",
        "  dic[class_names[i]]=scores_np.mean(axis=0)[i]*100\n",
        "sorted_dic = sorted(dic.items(), key=lambda item: item[1], reverse=True)\n",
        "for key,value in sorted_dic[:10]:\n",
        "  if key==\"Silence\" or key==\"Sound effect\":\n",
        "    x+=1\n",
        "for key,value in sorted_dic[:10+x]:\n",
        "  if key!=\"Silence\" and key!=\"Sound effect\":\n",
        "    t_sum+=value\n",
        "for key,value in sorted_dic[:10+x]:\n",
        "  if key!=\"Silence\" and key!=\"Sound effect\":\n",
        "    print(f\"{key}:{(value/t_sum)*100}\")"
      ],
      "metadata": {
        "id": "DCTI-shK8RsX"
      },
      "execution_count": null,
      "outputs": []
    }
  ]
}